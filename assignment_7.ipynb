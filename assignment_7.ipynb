{
 "cells": [
  {
   "cell_type": "markdown",
   "metadata": {},
   "source": [
    "# EXPLORATORY DATA ANALYSIS ON TITANIC BY RAHUL KAUSHIK"
   ]
  },
  {
   "cell_type": "markdown",
   "metadata": {},
   "source": [
    "![TITANIC](data:image/jpeg;base64,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)"
   ]
  },
  {
   "cell_type": "markdown",
   "metadata": {},
   "source": [
    "![WINE](https://encrypted-tbn0.gstatic.com/images?q=tbn:ANd9GcTaPHEUHlCmMFFkUuLCNwMxAIjc13_jLFkYsG1Sakaatc0VcVuJ)"
   ]
  },
  {
   "cell_type": "code",
   "execution_count": 8,
   "metadata": {},
   "outputs": [],
   "source": [
    "import pandas as pd\n",
    "import numpy as np\n",
    "import matplotlib.pyplot as plt\n",
    "import seaborn as sns\n",
    "%matplotlib inline"
   ]
  },
  {
   "cell_type": "code",
   "execution_count": 12,
   "metadata": {},
   "outputs": [],
   "source": [
    "df=pd.read_csv('https://raw.githubusercontent.com/Shreyas3108/Titanic-EDA-and-Survival-prediction/master/train.csv')"
   ]
  },
  {
   "cell_type": "code",
   "execution_count": 43,
   "metadata": {},
   "outputs": [
    {
     "data": {
      "text/html": [
       "<div>\n",
       "<style scoped>\n",
       "    .dataframe tbody tr th:only-of-type {\n",
       "        vertical-align: middle;\n",
       "    }\n",
       "\n",
       "    .dataframe tbody tr th {\n",
       "        vertical-align: top;\n",
       "    }\n",
       "\n",
       "    .dataframe thead th {\n",
       "        text-align: right;\n",
       "    }\n",
       "</style>\n",
       "<table border=\"1\" class=\"dataframe\">\n",
       "  <thead>\n",
       "    <tr style=\"text-align: right;\">\n",
       "      <th></th>\n",
       "      <th>PassengerId</th>\n",
       "      <th>Survived</th>\n",
       "      <th>Pclass</th>\n",
       "      <th>Name</th>\n",
       "      <th>Sex</th>\n",
       "      <th>Age</th>\n",
       "      <th>SibSp</th>\n",
       "      <th>Parch</th>\n",
       "      <th>Ticket</th>\n",
       "      <th>Fare</th>\n",
       "      <th>Cabin</th>\n",
       "      <th>Embarked</th>\n",
       "    </tr>\n",
       "  </thead>\n",
       "  <tbody>\n",
       "    <tr>\n",
       "      <th>0</th>\n",
       "      <td>1</td>\n",
       "      <td>0</td>\n",
       "      <td>3</td>\n",
       "      <td>Braund, Mr. Owen Harris</td>\n",
       "      <td>male</td>\n",
       "      <td>22.0</td>\n",
       "      <td>1</td>\n",
       "      <td>0</td>\n",
       "      <td>A/5 21171</td>\n",
       "      <td>7.2500</td>\n",
       "      <td>NaN</td>\n",
       "      <td>S</td>\n",
       "    </tr>\n",
       "    <tr>\n",
       "      <th>1</th>\n",
       "      <td>2</td>\n",
       "      <td>1</td>\n",
       "      <td>1</td>\n",
       "      <td>Cumings, Mrs. John Bradley (Florence Briggs Th...</td>\n",
       "      <td>female</td>\n",
       "      <td>38.0</td>\n",
       "      <td>1</td>\n",
       "      <td>0</td>\n",
       "      <td>PC 17599</td>\n",
       "      <td>71.2833</td>\n",
       "      <td>C85</td>\n",
       "      <td>C</td>\n",
       "    </tr>\n",
       "    <tr>\n",
       "      <th>2</th>\n",
       "      <td>3</td>\n",
       "      <td>1</td>\n",
       "      <td>3</td>\n",
       "      <td>Heikkinen, Miss. Laina</td>\n",
       "      <td>female</td>\n",
       "      <td>26.0</td>\n",
       "      <td>0</td>\n",
       "      <td>0</td>\n",
       "      <td>STON/O2. 3101282</td>\n",
       "      <td>7.9250</td>\n",
       "      <td>NaN</td>\n",
       "      <td>S</td>\n",
       "    </tr>\n",
       "    <tr>\n",
       "      <th>3</th>\n",
       "      <td>4</td>\n",
       "      <td>1</td>\n",
       "      <td>1</td>\n",
       "      <td>Futrelle, Mrs. Jacques Heath (Lily May Peel)</td>\n",
       "      <td>female</td>\n",
       "      <td>35.0</td>\n",
       "      <td>1</td>\n",
       "      <td>0</td>\n",
       "      <td>113803</td>\n",
       "      <td>53.1000</td>\n",
       "      <td>C123</td>\n",
       "      <td>S</td>\n",
       "    </tr>\n",
       "    <tr>\n",
       "      <th>4</th>\n",
       "      <td>5</td>\n",
       "      <td>0</td>\n",
       "      <td>3</td>\n",
       "      <td>Allen, Mr. William Henry</td>\n",
       "      <td>male</td>\n",
       "      <td>35.0</td>\n",
       "      <td>0</td>\n",
       "      <td>0</td>\n",
       "      <td>373450</td>\n",
       "      <td>8.0500</td>\n",
       "      <td>NaN</td>\n",
       "      <td>S</td>\n",
       "    </tr>\n",
       "  </tbody>\n",
       "</table>\n",
       "</div>"
      ],
      "text/plain": [
       "   PassengerId  Survived  Pclass  \\\n",
       "0            1         0       3   \n",
       "1            2         1       1   \n",
       "2            3         1       3   \n",
       "3            4         1       1   \n",
       "4            5         0       3   \n",
       "\n",
       "                                                Name     Sex   Age  SibSp  \\\n",
       "0                            Braund, Mr. Owen Harris    male  22.0      1   \n",
       "1  Cumings, Mrs. John Bradley (Florence Briggs Th...  female  38.0      1   \n",
       "2                             Heikkinen, Miss. Laina  female  26.0      0   \n",
       "3       Futrelle, Mrs. Jacques Heath (Lily May Peel)  female  35.0      1   \n",
       "4                           Allen, Mr. William Henry    male  35.0      0   \n",
       "\n",
       "   Parch            Ticket     Fare Cabin Embarked  \n",
       "0      0         A/5 21171   7.2500   NaN        S  \n",
       "1      0          PC 17599  71.2833   C85        C  \n",
       "2      0  STON/O2. 3101282   7.9250   NaN        S  \n",
       "3      0            113803  53.1000  C123        S  \n",
       "4      0            373450   8.0500   NaN        S  "
      ]
     },
     "execution_count": 43,
     "metadata": {},
     "output_type": "execute_result"
    }
   ],
   "source": [
    "df.head()"
   ]
  },
  {
   "cell_type": "code",
   "execution_count": 16,
   "metadata": {},
   "outputs": [
    {
     "data": {
      "text/plain": [
       "PassengerId      0\n",
       "Survived         0\n",
       "Pclass           0\n",
       "Name             0\n",
       "Sex              0\n",
       "Age            177\n",
       "SibSp            0\n",
       "Parch            0\n",
       "Ticket           0\n",
       "Fare             0\n",
       "Cabin          687\n",
       "Embarked         2\n",
       "dtype: int64"
      ]
     },
     "execution_count": 16,
     "metadata": {},
     "output_type": "execute_result"
    }
   ],
   "source": [
    "df.isnull().sum()"
   ]
  },
  {
   "cell_type": "markdown",
   "metadata": {},
   "source": [
    "## here we find the missing values in the respective columns"
   ]
  },
  {
   "cell_type": "code",
   "execution_count": 17,
   "metadata": {},
   "outputs": [
    {
     "data": {
      "text/plain": [
       "(891, 12)"
      ]
     },
     "execution_count": 17,
     "metadata": {},
     "output_type": "execute_result"
    }
   ],
   "source": [
    "df.shape"
   ]
  },
  {
   "cell_type": "code",
   "execution_count": 18,
   "metadata": {},
   "outputs": [
    {
     "name": "stdout",
     "output_type": "stream",
     "text": [
      "Index(['PassengerId', 'Survived', 'Pclass', 'Name', 'Sex', 'Age', 'SibSp',\n",
      "       'Parch', 'Ticket', 'Fare', 'Cabin', 'Embarked'],\n",
      "      dtype='object')\n"
     ]
    }
   ],
   "source": [
    "print(df.columns)"
   ]
  },
  {
   "cell_type": "code",
   "execution_count": 20,
   "metadata": {},
   "outputs": [
    {
     "data": {
      "text/html": [
       "<div>\n",
       "<style scoped>\n",
       "    .dataframe tbody tr th:only-of-type {\n",
       "        vertical-align: middle;\n",
       "    }\n",
       "\n",
       "    .dataframe tbody tr th {\n",
       "        vertical-align: top;\n",
       "    }\n",
       "\n",
       "    .dataframe thead th {\n",
       "        text-align: right;\n",
       "    }\n",
       "</style>\n",
       "<table border=\"1\" class=\"dataframe\">\n",
       "  <thead>\n",
       "    <tr style=\"text-align: right;\">\n",
       "      <th></th>\n",
       "      <th>PassengerId</th>\n",
       "      <th>Survived</th>\n",
       "      <th>Pclass</th>\n",
       "      <th>Age</th>\n",
       "      <th>SibSp</th>\n",
       "      <th>Parch</th>\n",
       "      <th>Fare</th>\n",
       "    </tr>\n",
       "  </thead>\n",
       "  <tbody>\n",
       "    <tr>\n",
       "      <th>count</th>\n",
       "      <td>891.000000</td>\n",
       "      <td>891.000000</td>\n",
       "      <td>891.000000</td>\n",
       "      <td>714.000000</td>\n",
       "      <td>891.000000</td>\n",
       "      <td>891.000000</td>\n",
       "      <td>891.000000</td>\n",
       "    </tr>\n",
       "    <tr>\n",
       "      <th>mean</th>\n",
       "      <td>446.000000</td>\n",
       "      <td>0.383838</td>\n",
       "      <td>2.308642</td>\n",
       "      <td>29.699118</td>\n",
       "      <td>0.523008</td>\n",
       "      <td>0.381594</td>\n",
       "      <td>32.204208</td>\n",
       "    </tr>\n",
       "    <tr>\n",
       "      <th>std</th>\n",
       "      <td>257.353842</td>\n",
       "      <td>0.486592</td>\n",
       "      <td>0.836071</td>\n",
       "      <td>14.526497</td>\n",
       "      <td>1.102743</td>\n",
       "      <td>0.806057</td>\n",
       "      <td>49.693429</td>\n",
       "    </tr>\n",
       "    <tr>\n",
       "      <th>min</th>\n",
       "      <td>1.000000</td>\n",
       "      <td>0.000000</td>\n",
       "      <td>1.000000</td>\n",
       "      <td>0.420000</td>\n",
       "      <td>0.000000</td>\n",
       "      <td>0.000000</td>\n",
       "      <td>0.000000</td>\n",
       "    </tr>\n",
       "    <tr>\n",
       "      <th>25%</th>\n",
       "      <td>223.500000</td>\n",
       "      <td>0.000000</td>\n",
       "      <td>2.000000</td>\n",
       "      <td>20.125000</td>\n",
       "      <td>0.000000</td>\n",
       "      <td>0.000000</td>\n",
       "      <td>7.910400</td>\n",
       "    </tr>\n",
       "    <tr>\n",
       "      <th>50%</th>\n",
       "      <td>446.000000</td>\n",
       "      <td>0.000000</td>\n",
       "      <td>3.000000</td>\n",
       "      <td>28.000000</td>\n",
       "      <td>0.000000</td>\n",
       "      <td>0.000000</td>\n",
       "      <td>14.454200</td>\n",
       "    </tr>\n",
       "    <tr>\n",
       "      <th>75%</th>\n",
       "      <td>668.500000</td>\n",
       "      <td>1.000000</td>\n",
       "      <td>3.000000</td>\n",
       "      <td>38.000000</td>\n",
       "      <td>1.000000</td>\n",
       "      <td>0.000000</td>\n",
       "      <td>31.000000</td>\n",
       "    </tr>\n",
       "    <tr>\n",
       "      <th>max</th>\n",
       "      <td>891.000000</td>\n",
       "      <td>1.000000</td>\n",
       "      <td>3.000000</td>\n",
       "      <td>80.000000</td>\n",
       "      <td>8.000000</td>\n",
       "      <td>6.000000</td>\n",
       "      <td>512.329200</td>\n",
       "    </tr>\n",
       "  </tbody>\n",
       "</table>\n",
       "</div>"
      ],
      "text/plain": [
       "       PassengerId    Survived      Pclass         Age       SibSp  \\\n",
       "count   891.000000  891.000000  891.000000  714.000000  891.000000   \n",
       "mean    446.000000    0.383838    2.308642   29.699118    0.523008   \n",
       "std     257.353842    0.486592    0.836071   14.526497    1.102743   \n",
       "min       1.000000    0.000000    1.000000    0.420000    0.000000   \n",
       "25%     223.500000    0.000000    2.000000   20.125000    0.000000   \n",
       "50%     446.000000    0.000000    3.000000   28.000000    0.000000   \n",
       "75%     668.500000    1.000000    3.000000   38.000000    1.000000   \n",
       "max     891.000000    1.000000    3.000000   80.000000    8.000000   \n",
       "\n",
       "            Parch        Fare  \n",
       "count  891.000000  891.000000  \n",
       "mean     0.381594   32.204208  \n",
       "std      0.806057   49.693429  \n",
       "min      0.000000    0.000000  \n",
       "25%      0.000000    7.910400  \n",
       "50%      0.000000   14.454200  \n",
       "75%      0.000000   31.000000  \n",
       "max      6.000000  512.329200  "
      ]
     },
     "execution_count": 20,
     "metadata": {},
     "output_type": "execute_result"
    }
   ],
   "source": [
    "df.describe()"
   ]
  },
  {
   "cell_type": "code",
   "execution_count": 22,
   "metadata": {},
   "outputs": [],
   "source": [
    "df['Age'].fillna(df['Age'].mean(),inplace=True)"
   ]
  },
  {
   "cell_type": "markdown",
   "metadata": {},
   "source": [
    "## As the data missing for the age column is major so we can't discard the column or rows so we fill the null values with the mean of the known values in the column"
   ]
  },
  {
   "cell_type": "code",
   "execution_count": 23,
   "metadata": {},
   "outputs": [
    {
     "data": {
      "text/plain": [
       "PassengerId      0\n",
       "Survived         0\n",
       "Pclass           0\n",
       "Name             0\n",
       "Sex              0\n",
       "Age              0\n",
       "SibSp            0\n",
       "Parch            0\n",
       "Ticket           0\n",
       "Fare             0\n",
       "Cabin          687\n",
       "Embarked         2\n",
       "dtype: int64"
      ]
     },
     "execution_count": 23,
     "metadata": {},
     "output_type": "execute_result"
    }
   ],
   "source": [
    "df.isnull().sum()"
   ]
  },
  {
   "cell_type": "markdown",
   "metadata": {},
   "source": [
    "## Now there are no null values in the columns except the cabin column but we don't have to include that in our plots probably"
   ]
  },
  {
   "cell_type": "code",
   "execution_count": 35,
   "metadata": {},
   "outputs": [
    {
     "data": {
      "text/plain": [
       "<matplotlib.axes._subplots.AxesSubplot at 0x2397ee7d940>"
      ]
     },
     "execution_count": 35,
     "metadata": {},
     "output_type": "execute_result"
    },
    {
     "data": {
      "image/png": "[encoded data removed]",
      "text/plain": [
       "<matplotlib.figure.Figure at 0x2397ee6c7b8>"
      ]
     },
     "metadata": {},
     "output_type": "display_data"
    }
   ],
   "source": [
    "sns.distplot(df['Age'])"
   ]
  },
  {
   "cell_type": "markdown",
   "metadata": {},
   "source": [
    "## THIS SHOWS THAT MOST OF THE PASSENGERS WERE OF AGE AROUND 30"
   ]
  },
  {
   "cell_type": "code",
   "execution_count": 25,
   "metadata": {},
   "outputs": [
    {
     "data": {
      "text/plain": [
       "<matplotlib.axes._subplots.AxesSubplot at 0x2397e7a5198>"
      ]
     },
     "execution_count": 25,
     "metadata": {},
     "output_type": "execute_result"
    },
    {
     "data": {
      "image/png": "[encoded data removed]",
      "text/plain": [
       "<matplotlib.figure.Figure at 0x2397e441b00>"
      ]
     },
     "metadata": {},
     "output_type": "display_data"
    }
   ],
   "source": [
    "sns.boxplot(df['Fare'])"
   ]
  },
  {
   "cell_type": "markdown",
   "metadata": {},
   "source": [
    "## this boxplot clearly depicts that the mean/average fare of the passengers was around 30, however it ranges from 0-512 even. which we can call an outlier.The fare depends on the class a passenger is travelling in and even their sex suprisingly!!"
   ]
  },
  {
   "cell_type": "code",
   "execution_count": 28,
   "metadata": {},
   "outputs": [
    {
     "data": {
      "text/plain": [
       "<matplotlib.axes._subplots.AxesSubplot at 0x2397e80f320>"
      ]
     },
     "execution_count": 28,
     "metadata": {},
     "output_type": "execute_result"
    },
    {
     "data": {
      "image/png": "[encoded data removed]",
      "text/plain": [
       "<matplotlib.figure.Figure at 0x2397e7df3c8>"
      ]
     },
     "metadata": {},
     "output_type": "display_data"
    }
   ],
   "source": [
    "sns.countplot(df['Sex'])"
   ]
  },
  {
   "cell_type": "markdown",
   "metadata": {},
   "source": [
    "## The number of Male travellers was 2X the number of Females as the Males were always more adventerous than females and daring enough to sail the first voyage of THE TITANIC "
   ]
  },
  {
   "cell_type": "code",
   "execution_count": 29,
   "metadata": {},
   "outputs": [
    {
     "data": {
      "text/plain": [
       "<matplotlib.axes._subplots.AxesSubplot at 0x2397e8276d8>"
      ]
     },
     "execution_count": 29,
     "metadata": {},
     "output_type": "execute_result"
    },
    {
     "data": {
      "image/png": "[encoded data removed]",
      "text/plain": [
       "<matplotlib.figure.Figure at 0x2397ea4c550>"
      ]
     },
     "metadata": {},
     "output_type": "display_data"
    }
   ],
   "source": [
    "sns.countplot(df['Pclass'])"
   ]
  },
  {
   "cell_type": "markdown",
   "metadata": {},
   "source": [
    "## The number of poor people have always been more than the riches."
   ]
  },
  {
   "cell_type": "code",
   "execution_count": 37,
   "metadata": {},
   "outputs": [
    {
     "data": {
      "text/plain": [
       "<matplotlib.axes._subplots.AxesSubplot at 0x2397f0ca5c0>"
      ]
     },
     "execution_count": 37,
     "metadata": {},
     "output_type": "execute_result"
    },
    {
     "data": {
      "image/png": "[encoded data removed]",
      "text/plain": [
       "<matplotlib.figure.Figure at 0x2397ef29860>"
      ]
     },
     "metadata": {},
     "output_type": "display_data"
    }
   ],
   "source": [
    "sns.swarmplot(df['Pclass'],df['Fare'],data=df)"
   ]
  },
  {
   "cell_type": "markdown",
   "metadata": {},
   "source": [
    "## Here we can see that the Fare was not the same even in the same class but ranged to a certain considerable extent"
   ]
  },
  {
   "cell_type": "code",
   "execution_count": 30,
   "metadata": {},
   "outputs": [
    {
     "data": {
      "text/plain": [
       "<matplotlib.axes._subplots.AxesSubplot at 0x2397ea92a20>"
      ]
     },
     "execution_count": 30,
     "metadata": {},
     "output_type": "execute_result"
    },
    {
     "data": {
      "image/png": "[encoded data removed]",
      "text/plain": [
       "<matplotlib.figure.Figure at 0x2397e76ecf8>"
      ]
     },
     "metadata": {},
     "output_type": "display_data"
    }
   ],
   "source": [
    "sns.countplot(df['Survived'])"
   ]
  },
  {
   "cell_type": "code",
   "execution_count": 31,
   "metadata": {},
   "outputs": [
    {
     "data": {
      "text/plain": [
       "<seaborn.axisgrid.JointGrid at 0x2397ea925c0>"
      ]
     },
     "execution_count": 31,
     "metadata": {},
     "output_type": "execute_result"
    },
    {
     "data": {
      "image/png": "[encoded data removed]",
      "text/plain": [
       "<matplotlib.figure.Figure at 0x2397ea6c470>"
      ]
     },
     "metadata": {},
     "output_type": "display_data"
    }
   ],
   "source": [
    "sns.jointplot(x=df['Age'], y=df['Survived'], color='k', kind=\"hex\")"
   ]
  },
  {
   "cell_type": "markdown",
   "metadata": {},
   "source": [
    "## This plot clearly shows that the people survived the most were neither the children nor the olds but the adults aged from 26 to 30"
   ]
  },
  {
   "cell_type": "code",
   "execution_count": 33,
   "metadata": {},
   "outputs": [
    {
     "data": {
      "text/plain": [
       "<seaborn.axisgrid.JointGrid at 0x2397eae2fd0>"
      ]
     },
     "execution_count": 33,
     "metadata": {},
     "output_type": "execute_result"
    },
    {
     "data": {
      "image/png": "[encoded data removed]",
      "text/plain": [
       "<matplotlib.figure.Figure at 0x2397ed23cf8>"
      ]
     },
     "metadata": {},
     "output_type": "display_data"
    }
   ],
   "source": [
    "sns.jointplot(x=df['Age'], y=df['Survived'], kind=\"kde\",color=\"g\")"
   ]
  },
  {
   "cell_type": "markdown",
   "metadata": {},
   "source": [
    "## This explain the above statement more precisely and in a better way."
   ]
  },
  {
   "cell_type": "code",
   "execution_count": 41,
   "metadata": {},
   "outputs": [
    {
     "data": {
      "text/plain": [
       "<matplotlib.axes._subplots.AxesSubplot at 0x2397f10f748>"
      ]
     },
     "execution_count": 41,
     "metadata": {},
     "output_type": "execute_result"
    },
    {
     "data": {
      "image/png": "[encoded data removed]",
      "text/plain": [
       "<matplotlib.figure.Figure at 0x2397ec4b780>"
      ]
     },
     "metadata": {},
     "output_type": "display_data"
    }
   ],
   "source": [
    "sns.barplot(x=df['Survived'],y=df['Sex'],hue='Pclass',data=df)"
   ]
  },
  {
   "cell_type": "markdown",
   "metadata": {},
   "source": [
    "## The above graph is appropriate if rather than showing the distribution in each category,we want to show the central tendency of the  values and the number of values in each category"
   ]
  },
  {
   "cell_type": "code",
   "execution_count": 53,
   "metadata": {},
   "outputs": [
    {
     "data": {
      "text/plain": [
       "<matplotlib.axes._subplots.AxesSubplot at 0x2390163e0f0>"
      ]
     },
     "execution_count": 53,
     "metadata": {},
     "output_type": "execute_result"
    },
    {
     "data": {
      "image/png": "[encoded data removed]",
      "text/plain": [
       "<matplotlib.figure.Figure at 0x2397fe9a080>"
      ]
     },
     "metadata": {},
     "output_type": "display_data"
    }
   ],
   "source": [
    "sns.countplot(df['Survived'],hue=df['Sex'])"
   ]
  },
  {
   "cell_type": "markdown",
   "metadata": {},
   "source": [
    "## Now thats an again an important conclusion to note,that the females survived were more than the males did.This shows the chivalry of the men present there and that they were gentle enough to send the females first in the lifeboats"
   ]
  },
  {
   "cell_type": "code",
   "execution_count": 57,
   "metadata": {},
   "outputs": [
    {
     "data": {
      "text/plain": [
       "<matplotlib.axes._subplots.AxesSubplot at 0x23901902e48>"
      ]
     },
     "execution_count": 57,
     "metadata": {},
     "output_type": "execute_result"
    },
    {
     "data": {
      "image/png": "[encoded data removed]",
      "text/plain": [
       "<matplotlib.figure.Figure at 0x23901875940>"
      ]
     },
     "metadata": {},
     "output_type": "display_data"
    }
   ],
   "source": [
    "sns.countplot(df['Age'],hue=df['Survived'],data=df)"
   ]
  },
  {
   "cell_type": "markdown",
   "metadata": {},
   "source": [
    "## Depicting the age of the survivors,(mostly middle aged)"
   ]
  },
  {
   "cell_type": "code",
   "execution_count": 58,
   "metadata": {},
   "outputs": [
    {
     "data": {
      "text/plain": [
       "<matplotlib.axes._subplots.AxesSubplot at 0x23901afcc88>"
      ]
     },
     "execution_count": 58,
     "metadata": {},
     "output_type": "execute_result"
    },
    {
     "data": {
      "image/png": "[encoded data removed]",
      "text/plain": [
       "<matplotlib.figure.Figure at 0x239016cbe10>"
      ]
     },
     "metadata": {},
     "output_type": "display_data"
    }
   ],
   "source": [
    "sns.countplot(df['Fare'],hue=df['Survived'])"
   ]
  },
  {
   "cell_type": "markdown",
   "metadata": {},
   "source": [
    "## People who paid less survived more in number.Now what this graph depicts is that money can buy you a voyage ticket but not life the people who paid less, the poor ones, were active enough to save their life more than that of the people who paid more or we can say that the luxury compartments of the ship were made deep inside the chambers or the basement and the poor people were to stay in open on the terrace in that  chilling cold but who knew that thing will save their life "
   ]
  },
  {
   "cell_type": "markdown",
   "metadata": {},
   "source": [
    "# The 3 most interesting plots are in the line[58] beacuse it shows the relation between the money paid and whether or not their life is saved ..,line[31] as it shows the age group from which most of the passengers survived....,line[37] as on a kidding note it shows the partiality between the people who have to pay different amount even for the same class."
   ]
  },
  {
   "cell_type": "code",
   "execution_count": null,
   "metadata": {},
   "outputs": [],
   "source": []
  }
 ],
 "metadata": {
  "kernelspec": {
   "display_name": "Python 3",
   "language": "python",
   "name": "python3"
  },
  "language_info": {
   "codemirror_mode": {
    "name": "ipython",
    "version": 3
   },
   "file_extension": ".py",
   "mimetype": "text/x-python",
   "name": "python",
   "nbconvert_exporter": "python",
   "pygments_lexer": "ipython3",
   "version": "3.6.4"
  }
 },
 "nbformat": 4,
 "nbformat_minor": 2
}
